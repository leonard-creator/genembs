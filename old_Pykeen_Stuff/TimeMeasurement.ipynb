{
 "cells": [
  {
   "cell_type": "code",
   "execution_count": null,
   "id": "3231ee1d-cd28-40ce-9322-ac59d9c35881",
   "metadata": {},
   "outputs": [],
   "source": [
    "# script to check the amount of time with evaluator "
   ]
  },
  {
   "cell_type": "code",
   "execution_count": null,
   "id": "bc1e0678-5e0e-4e80-abf0-fad436457d09",
   "metadata": {},
   "outputs": [],
   "source": [
    "\n",
    "import pykeen\n",
    "from pykeen.pipeline import pipeline\n",
    "import networkx as nx\n",
    "import pathlib\n",
    "from random import sample\n",
    "import pandas as pd\n",
    "from pykeen.triples import TriplesFactory\n",
    "import torch\n",
    "import numpy as np\n",
    "import time\n",
    "\n",
    "t0 = time.time()\n"
   ]
  },
  {
   "cell_type": "code",
   "execution_count": null,
   "id": "90e4ad9b-30a8-46c9-aa61-c0ef42a4f608",
   "metadata": {},
   "outputs": [],
   "source": []
  },
  {
   "cell_type": "code",
   "execution_count": null,
   "id": "0825529a-ea66-4fdd-991c-a385a5da0200",
   "metadata": {},
   "outputs": [],
   "source": [
    "\n",
    "#loading the full graph\n",
    "print('loading graph ...')\n",
    "base_path = pathlib.Path(\n",
    "    \"/data/analysis/ag-reils/ag-reils-shared/cardioRS/data/2_datasets_pre/211110_anewbeginning\")\n",
    "G = nx.readwrite.gpickle.read_gpickle('/data/analysis/ag-reils/ag-reils-shared/cardioRS/data/2_datasets_pre/211110_anewbeginning/graph_full_211122.p')\n"
   ]
  },
  {
   "cell_type": "code",
   "execution_count": null,
   "id": "e8f1dce5-bb99-4150-8d24-7d51755e6cb8",
   "metadata": {},
   "outputs": [],
   "source": [
    "def preprocess_graph_heterogeneous(graph: nx.Graph):\n",
    "    edge_types = []\n",
    "    for u, v, data in graph.edges.data():\n",
    "        edge_types.append(data[\"edge_type\"])\n",
    "\n",
    "    #edge_codes, edge_types = pd.factorize(edge_types)\n",
    "    \n",
    "    node_types = []\n",
    "    for n, data in graph.nodes.data():\n",
    "        node_types.append(data[\"node_type\"])\n",
    "\n",
    "    node_codes, node_types = pd.factorize(node_types)\n",
    "\n",
    "    preprocessed_graph = nx.DiGraph()\n",
    "    preprocessed_graph.add_nodes_from(graph.nodes())\n",
    "\n",
    "    preprocessed_graph.node_codes = node_codes\n",
    "    preprocessed_graph.node_types = node_types\n",
    "    # ---- #\n",
    "    edge_codes, num_counts = np.unique(edge_types, return_counts=True)\n",
    "    fraction = num_counts / len(edge_types)\n",
    "    valid_edge_codes = edge_codes[fraction >= 0.008]\n",
    "    print(len(valid_edge_codes), valid_edge_codes)\n",
    "    \n",
    "    for (u,v,w), t in zip(graph.edges.data(\"edge_weight\"), edge_types):\n",
    "        assert w is not None\n",
    "        \n",
    "        # only most relevant relations\n",
    "        if t in valid_edge_codes and w >=1.0:\n",
    "            preprocessed_graph.add_edge(u, v, edge_weight=w, edge_code=t)\n",
    "        \n",
    "        else : continue\n",
    "    # ---- #    \n",
    "    \n",
    "    preprocessed_graph.edge_types = edge_types\n",
    "\n",
    "    return preprocessed_graph\n"
   ]
  },
  {
   "cell_type": "code",
   "execution_count": 3,
   "id": "b31465b6-5800-4639-8dd2-c40834afb9ae",
   "metadata": {},
   "outputs": [],
   "source": [
    "# -------- directly create TRIPLES ------- #\n",
    "\n",
    "#SG = preprocess_graph_heterogeneous(G)\n",
    "\n",
    "tripleList=[]\n",
    "nodes=[]\n",
    "for u,v,data in SG.edges.data():\n",
    "    l=[]\n",
    "    l.append(u)\n",
    "    nodes.append(u)\n",
    "    l.append(data['edge_code'])\n",
    "    l.append(v)\n",
    "    nodes.append(v)\n",
    "    tripleList.append(l)\n",
    "\n",
    "#needs triples as ndarray - shape (n,3), dtype:str \n",
    "tripleArray=np.array(tripleList, dtype=str)\n",
    "print(len(tripleArray))"
   ]
  },
  {
   "cell_type": "code",
   "execution_count": 4,
   "id": "007d8568-ede9-45a0-b11c-3c34876eb736",
   "metadata": {},
   "outputs": [
    {
     "name": "stdout",
     "output_type": "stream",
     "text": [
      "<class 'str'>\n"
     ]
    }
   ],
   "source": [
    "#####################\n",
    "# Easy Pipeline Way #\n",
    "####################\n",
    "\n",
    "tf2 = TriplesFactory.from_labeled_triples(tripleArray, create_inverse_triples=True)\n",
    "\n",
    "print(tf2.get_most_frequent_relations(3))\n",
    "# ----------- Splitting into training, testing, validation ---#\n",
    "\n",
    "training_factory, testing_factory, validation_factory = tf2.split([0.6 ,0.4])\n",
    "\n",
    "\n",
    "# --\n",
    "\n",
    "# Pick a model\n",
    "from pykeen.models import TransE\n",
    "\n",
    "kwargs={'triples_factory': training_factory , 'loss': None, 'predict_with_sigmoid':False, 'preferred_device':None, 'random_seed':None}\n",
    "\n",
    "tf2_model = TransE(**kwargs, embedding_dim=64) # >64, 256\n",
    "\n",
    "\n",
    "\n",
    "\n",
    "results = pipeline(\n",
    "    training = training_factory,\n",
    "    testing = testing_factory,\n",
    "    validation = validation_factory,\n",
    "    loss='marginranking',\n",
    "    loss_kwargs=dict(margin=1),\n",
    "    model = tf2_model,\n",
    "    epochs = 100, \n",
    "    training_loop = 'sLCWA',\n",
    "    negative_sampler = 'basic',\n",
    "    evaluator = 'rankbased',\n",
    "    stopper = 'early',\n",
    "    stopper_kwargs=dict(frequency=5, patience=2, relative_delta=0.002)\n",
    ")\n",
    "\n",
    "t1 = time.time()\n",
    "results.plot_losses()\n",
    "titel= 'Standart_earlyStop_Time' + str(t1-t0)\n",
    "result.save_to_directory(title)"
   ]
  },
  {
   "cell_type": "code",
   "execution_count": 5,
   "id": "e98c243b-8ac7-4767-8773-2e2ed90edd5a",
   "metadata": {},
   "outputs": [
    {
     "name": "stdout",
     "output_type": "stream",
     "text": [
      "asfasd0.045130252838134766\n"
     ]
    }
   ],
   "source": []
  }
 ],
 "metadata": {
  "kernelspec": {
   "display_name": "Python [conda env:DeepWalk]",
   "language": "python",
   "name": "conda-env-DeepWalk-py"
  },
  "language_info": {
   "codemirror_mode": {
    "name": "ipython",
    "version": 3
   },
   "file_extension": ".py",
   "mimetype": "text/x-python",
   "name": "python",
   "nbconvert_exporter": "python",
   "pygments_lexer": "ipython3",
   "version": "3.8.12"
  }
 },
 "nbformat": 4,
 "nbformat_minor": 5
}
