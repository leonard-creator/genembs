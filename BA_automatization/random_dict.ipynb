{
 "cells": [
  {
   "cell_type": "code",
   "execution_count": 1,
   "id": "92d12efa-a5e9-4041-b252-1d4c6f22c7cc",
   "metadata": {},
   "outputs": [],
   "source": [
    "#  script to generate a dim=1024 embedding filled with random numbers to model as a comparison-baseline for bachelor thesis\n",
    "# author: leonard Tiling\n"
   ]
  },
  {
   "cell_type": "code",
   "execution_count": 2,
   "id": "e3b70701-bb8f-42e7-a4ed-f9e2f2bf723c",
   "metadata": {},
   "outputs": [],
   "source": [
    "import pykeen\n",
    "import numpy as np\n",
    "import pandas as pd\n",
    "import random\n",
    "import matplotlib.pyplot as plt\n",
    "import math"
   ]
  },
  {
   "cell_type": "code",
   "execution_count": 3,
   "id": "ef0d2c9e-3b1e-4442-98d9-0233fdc2cafe",
   "metadata": {},
   "outputs": [],
   "source": [
    "# 1. check out range from generated numbers \n",
    "# 2. generate numbers out of uniform (normalverteilung)\n",
    "# 3. load connected-nodes from triple factory or connected-nodes-list\n",
    "# 4. generate Dictonary and assign each node in the dict 1024 random values, save as Embedding_dict_random.feather\n",
    "# savve dict and start evaluation with Embedding_dict_random.feather"
   ]
  },
  {
   "cell_type": "code",
   "execution_count": 3,
   "id": "5a1d539d-2e68-4010-b7ea-db2c1d06dbf7",
   "metadata": {},
   "outputs": [
    {
     "name": "stdout",
     "output_type": "stream",
     "text": [
      "-0.800907937832261\n",
      "[ 1.76592599  0.51838503  1.63390117  0.05110471 -1.29494637 -0.61260559\n",
      " -0.15761044 -0.03107318  0.88165734 -0.89677404]\n",
      "1024\n"
     ]
    }
   ],
   "source": [
    "# generate Numbers from uniform\n",
    "print(np.random.uniform(-1, 1)) # all values equally chance \n",
    "mu, sigma = 0, 1 # mean and standard deviation\n",
    "s = np.random.normal(mu, sigma, 10) # values from gaussian normal distribution\n",
    "print(s)\n",
    "rlist = [np.random.uniform(-1,1) for i in range(1024)]\n",
    "print(len(rlist))"
   ]
  },
  {
   "cell_type": "code",
   "execution_count": 10,
   "id": "1a625c96-5f6e-499a-89d1-51f5bdc88e9d",
   "metadata": {},
   "outputs": [
    {
     "name": "stdout",
     "output_type": "stream",
     "text": [
      "                   nodes\n",
      "0          OMOP_21600001\n",
      "1          OMOP_21600002\n",
      "2          OMOP_21600003\n",
      "3          OMOP_21600004\n",
      "4          OMOP_21600005\n",
      "...                  ...\n",
      "700375  OT_R-HSA-6803207\n",
      "700376   OT_R-HSA-416993\n",
      "700377   OT_R-HSA-168181\n",
      "700378  OT_R-HSA-3642279\n",
      "700379  OT_R-HSA-9694676\n",
      "\n",
      "[700380 rows x 1 columns]\n"
     ]
    }
   ],
   "source": [
    "# load nodelist and assign via dictionary\n",
    "nodes = pd.read_feather('/sc-projects/sc-proj-ukb-cvd/data/2_datasets_pre/220208_graphembeddings/metadata/connected_nodes_list.feather')\n",
    "print(nodes)"
   ]
  },
  {
   "cell_type": "code",
   "execution_count": null,
   "id": "77d47077-765c-4876-b5a2-6230b96de076",
   "metadata": {},
   "outputs": [],
   "source": [
    "random_dict = pd.DataFrame(dict(nodes= nodes['nodes'], embeddings=[ [np.random.uniform(-1,1) for i in range(1024)] for l in range(len(nodes))] ))\n",
    "print(random_dict)"
   ]
  },
  {
   "cell_type": "code",
   "execution_count": null,
   "id": "ade9e9b6-fefb-4ba7-a1ee-d5c4f50ca728",
   "metadata": {},
   "outputs": [],
   "source": [
    "# create the random_embedding_dict with :\n",
    "# values casted from float63 to float32\n",
    "# sampled out of the normal gaussian distribution\n",
    "# brought together into a dict, for every node 1024 random values\n",
    "\n",
    "mu, sigma = 0, 1 # mean and standard deviation\n",
    "s = np.random.normal(mu, sigma, 10) # values from gaussian normal distribution\n",
    "ll = [np.random.normal(mu, sigma, 1024).astype(dtype='float32', casting='same_kind') for y in range(len(nodes['nodes'])) ] #\n",
    "\n",
    "df_dict = pd.DataFrame(dict(nodes= nodes['nodes'], embeddings= ll)) #\n",
    "df_dict.head()\n",
    "#df_dict.to_feather('/sc-projects/sc-proj-ukb-cvd/data/2_datasets_pre/220208_graphembeddings/embeddings_leonard/Embedding_dict_random_normal.feather')"
   ]
  },
  {
   "cell_type": "code",
   "execution_count": 80,
   "id": "243cb6b0-3697-405d-be07-07c6036a2c6c",
   "metadata": {},
   "outputs": [
    {
     "name": "stdout",
     "output_type": "stream",
     "text": [
      "[-0.17043212  0.71511939  0.1730594   0.84695051 -0.6626444   0.89136413\n",
      "  1.21229807  0.49837665  0.53491023  1.07542677] <class 'numpy.float64'>\n",
      "[-0.17043212  0.7151194   0.1730594   0.84695053 -0.6626444   0.89136416\n",
      "  1.212298    0.49837664  0.5349102   1.0754268 ] <class 'numpy.float32'>\n"
     ]
    }
   ],
   "source": []
  },
  {
   "cell_type": "code",
   "execution_count": 5,
   "id": "32c26268-eae6-49d6-9ccf-1d622dabe093",
   "metadata": {},
   "outputs": [
    {
     "name": "stdout",
     "output_type": "stream",
     "text": [
      "          nodes                                         embeddings\n",
      "0  OMOP_1000560  [0.14839451, -0.14838076, -0.121275395, 0.1185...\n",
      "1  OMOP_1000577  [-0.20172451, -0.20994017, 0.15138729, 0.07870...\n",
      "2  OMOP_1000579  [0.026997318, -0.25478494, 0.17429298, -0.1326...\n",
      "3  OMOP_1000599  [0.07367588, -0.09364811, -0.0073877256, 0.136...\n",
      "4  OMOP_1000600  [-0.18172097, -0.2223067, -0.03936057, -0.1386...\n"
     ]
    },
    {
     "data": {
      "text/html": [
       "<div>\n",
       "<style scoped>\n",
       "    .dataframe tbody tr th:only-of-type {\n",
       "        vertical-align: middle;\n",
       "    }\n",
       "\n",
       "    .dataframe tbody tr th {\n",
       "        vertical-align: top;\n",
       "    }\n",
       "\n",
       "    .dataframe thead th {\n",
       "        text-align: right;\n",
       "    }\n",
       "</style>\n",
       "<table border=\"1\" class=\"dataframe\">\n",
       "  <thead>\n",
       "    <tr style=\"text-align: right;\">\n",
       "      <th></th>\n",
       "      <th>nodes</th>\n",
       "      <th>embeddings</th>\n",
       "    </tr>\n",
       "  </thead>\n",
       "  <tbody>\n",
       "    <tr>\n",
       "      <th>0</th>\n",
       "      <td>OMOP_1000560</td>\n",
       "      <td>[0.19152974, -0.012642919, 0.0087412875, -0.11...</td>\n",
       "    </tr>\n",
       "    <tr>\n",
       "      <th>1</th>\n",
       "      <td>OMOP_1000577</td>\n",
       "      <td>[-0.058635775, -0.10710192, 0.040898025, 0.009...</td>\n",
       "    </tr>\n",
       "    <tr>\n",
       "      <th>2</th>\n",
       "      <td>OMOP_1000579</td>\n",
       "      <td>[-0.16844621, -0.13485488, -0.10257045, 0.0068...</td>\n",
       "    </tr>\n",
       "    <tr>\n",
       "      <th>3</th>\n",
       "      <td>OMOP_1000599</td>\n",
       "      <td>[-0.15834698, 0.06615062, 0.06974961, -0.07723...</td>\n",
       "    </tr>\n",
       "    <tr>\n",
       "      <th>4</th>\n",
       "      <td>OMOP_1000600</td>\n",
       "      <td>[-0.17353916, 0.057508957, -0.1200872, -0.0007...</td>\n",
       "    </tr>\n",
       "  </tbody>\n",
       "</table>\n",
       "</div>"
      ],
      "text/plain": [
       "          nodes                                         embeddings\n",
       "0  OMOP_1000560  [0.19152974, -0.012642919, 0.0087412875, -0.11...\n",
       "1  OMOP_1000577  [-0.058635775, -0.10710192, 0.040898025, 0.009...\n",
       "2  OMOP_1000579  [-0.16844621, -0.13485488, -0.10257045, 0.0068...\n",
       "3  OMOP_1000599  [-0.15834698, 0.06615062, 0.06974961, -0.07723...\n",
       "4  OMOP_1000600  [-0.17353916, 0.057508957, -0.1200872, -0.0007..."
      ]
     },
     "execution_count": 5,
     "metadata": {},
     "output_type": "execute_result"
    }
   ],
   "source": [
    "# load RotatE embedding and inspect range of values\n",
    "df_rotatE = pd.read_feather('/sc-projects/sc-proj-ukb-cvd/data/2_datasets_pre/220208_graphembeddings/embeddings_leonard/Embedding_dict_RotatE.feather')\n",
    "print(df_rotatE.head())\n",
    "\n",
    "df_ConvE =pd.read_feather('/sc-projects/sc-proj-ukb-cvd/data/2_datasets_pre/220208_graphembeddings/embeddings_leonard/Embedding_dict_ConvE.feather')\n",
    "df_ConvE.head()"
   ]
  },
  {
   "cell_type": "code",
   "execution_count": 6,
   "id": "a5561692-2613-4cbc-b3b4-244604d10daf",
   "metadata": {},
   "outputs": [
    {
     "name": "stdout",
     "output_type": "stream",
     "text": [
      "(700380, 2)  dtype: nodes         object\n",
      "embeddings    object\n",
      "dtype: object  empty?: False  size: 1400760 \n",
      "\n",
      "<class 'pandas.core.frame.DataFrame'>\n",
      "RangeIndex: 700380 entries, 0 to 700379\n",
      "Data columns (total 2 columns):\n",
      " #   Column      Non-Null Count   Dtype \n",
      "---  ------      --------------   ----- \n",
      " 0   nodes       700380 non-null  object\n",
      " 1   embeddings  700380 non-null  object\n",
      "dtypes: object(2)\n",
      "memory usage: 10.7+ MB\n",
      "###############################################\n",
      "0.13381132 -0.0070063\n"
     ]
    }
   ],
   "source": [
    "# inspecting the dataframe\n",
    "print(df_rotatE.shape, ' dtype:',df_rotatE.dtypes,' empty?:', df_rotatE.empty,' size:', df_rotatE.size, '\\n')\n",
    "df_rotatE.info()\n",
    "\n",
    "print('###############################################')\n",
    "#print(df_rotatE['embeddings'][0])\n",
    "big_np = np.asarray(df_rotatE['embeddings'])\n",
    "big_np[0]\n",
    "#big_m = np.asmatrix(big_np)\n",
    "print(np.std(big_np[0]), np.mean(big_np[0]))"
   ]
  },
  {
   "cell_type": "code",
   "execution_count": null,
   "id": "cd90ddae-c747-4a47-83b3-2d1a8f567cbb",
   "metadata": {},
   "outputs": [],
   "source": [
    "# try plotting\n",
    "# Plot Histogram on x\n",
    "x = np.random.normal(size = 1000)\n",
    "#plt.hist(big_np[3], bins=200)\n",
    "#plt.gca().set(title='Frequency Histogram of embedding values', ylabel='Frequency');\n",
    "\n",
    "\n",
    "#define subplots\n",
    "fig, ax = plt.subplots(10, 10, figsize=(25,20))\n",
    "fig.tight_layout()\n",
    "#create subplots\n",
    "for i in range(10):\n",
    "    for j in range(10):\n",
    "        ax[i][j].hist(big_np[i+j], bins=200)\n",
    "        \n",
    "plt.suptitle('Frequency Histogram of embedding values', y=1.05, size=16)\n",
    "#plt.savefig('Normalverteilung RotatE.png', dpi=400)"
   ]
  },
  {
   "cell_type": "code",
   "execution_count": 7,
   "id": "6bc6b7c2-6939-4ef2-983a-61f01b99f5e4",
   "metadata": {},
   "outputs": [
    {
     "name": "stdout",
     "output_type": "stream",
     "text": [
      "0.13381132 -0.0070063\n",
      "700380 700380\n"
     ]
    }
   ],
   "source": [
    "# evaluate each sd and mean per embedding \n",
    "means=[]\n",
    "stds=[]\n",
    "print(np.std(big_np[0]), np.mean(big_np[0]))\n",
    "for i in range(len(big_np)):\n",
    "    means.append(np.mean(big_np[i]))\n",
    "    stds.append(np.std(big_np[i]))\n",
    "print(len(stds), len(means))"
   ]
  },
  {
   "cell_type": "code",
   "execution_count": 8,
   "id": "bc0ab561-0477-4ce0-a55b-34817d137659",
   "metadata": {},
   "outputs": [
    {
     "name": "stdout",
     "output_type": "stream",
     "text": [
      "<class 'list'> <class 'numpy.float32'> -0.0070063 0.14246032 0.006859155\n",
      "0.14262535238676427\n"
     ]
    }
   ],
   "source": [
    "# plot mens and stds : \n",
    "print(type(means), type(means[0]), means[0], np.mean(stds), np.std(stds))\n",
    "#plt.hist(means, bins=200)\n",
    "#plt.show()\n",
    "#plt.hist([np.random.normal(np.mean(stds), np.std(stds), len(means))], bins=200)\n",
    "#plt.show()\n",
    "\n",
    "def potenzsum(stds):\n",
    "    s=0\n",
    "    for i in range(len(stds)):\n",
    "        s = s+stds[i]**2\n",
    "    return s\n",
    "#calculate average std out of equal sample size: https://www.statology.org/averaging-standard-deviations/\n",
    "def average_sdt(stds):\n",
    "    return math.sqrt((potenzsum(stds) / len(stds)))\n",
    "\n",
    "avg_std = average_sdt(stds)\n",
    "print(avg_std)"
   ]
  },
  {
   "cell_type": "code",
   "execution_count": 13,
   "id": "0bcad4a7-2f01-4c85-9632-3e44bd259801",
   "metadata": {},
   "outputs": [
    {
     "data": {
      "text/html": [
       "<div>\n",
       "<style scoped>\n",
       "    .dataframe tbody tr th:only-of-type {\n",
       "        vertical-align: middle;\n",
       "    }\n",
       "\n",
       "    .dataframe tbody tr th {\n",
       "        vertical-align: top;\n",
       "    }\n",
       "\n",
       "    .dataframe thead th {\n",
       "        text-align: right;\n",
       "    }\n",
       "</style>\n",
       "<table border=\"1\" class=\"dataframe\">\n",
       "  <thead>\n",
       "    <tr style=\"text-align: right;\">\n",
       "      <th></th>\n",
       "      <th>nodes</th>\n",
       "      <th>embeddings</th>\n",
       "    </tr>\n",
       "  </thead>\n",
       "  <tbody>\n",
       "    <tr>\n",
       "      <th>0</th>\n",
       "      <td>OMOP_21600001</td>\n",
       "      <td>[0.059952356, 0.33628994, 0.15441476, 0.014831...</td>\n",
       "    </tr>\n",
       "    <tr>\n",
       "      <th>1</th>\n",
       "      <td>OMOP_21600002</td>\n",
       "      <td>[-0.022689564, -0.112952635, -0.14282987, 0.01...</td>\n",
       "    </tr>\n",
       "    <tr>\n",
       "      <th>2</th>\n",
       "      <td>OMOP_21600003</td>\n",
       "      <td>[-0.079462305, -0.24657337, 0.02037129, -0.131...</td>\n",
       "    </tr>\n",
       "    <tr>\n",
       "      <th>3</th>\n",
       "      <td>OMOP_21600004</td>\n",
       "      <td>[0.13588604, -0.027177274, 0.23015128, -0.0614...</td>\n",
       "    </tr>\n",
       "    <tr>\n",
       "      <th>4</th>\n",
       "      <td>OMOP_21600005</td>\n",
       "      <td>[0.036219828, -0.08621131, 0.15677688, -0.0843...</td>\n",
       "    </tr>\n",
       "  </tbody>\n",
       "</table>\n",
       "</div>"
      ],
      "text/plain": [
       "           nodes                                         embeddings\n",
       "0  OMOP_21600001  [0.059952356, 0.33628994, 0.15441476, 0.014831...\n",
       "1  OMOP_21600002  [-0.022689564, -0.112952635, -0.14282987, 0.01...\n",
       "2  OMOP_21600003  [-0.079462305, -0.24657337, 0.02037129, -0.131...\n",
       "3  OMOP_21600004  [0.13588604, -0.027177274, 0.23015128, -0.0614...\n",
       "4  OMOP_21600005  [0.036219828, -0.08621131, 0.15677688, -0.0843..."
      ]
     },
     "execution_count": 13,
     "metadata": {},
     "output_type": "execute_result"
    }
   ],
   "source": [
    "# generate random values with mean of means and std of means to random_rotatE.feather\n",
    "random_rot = [np.random.normal(0, avg_std, 1024).astype(dtype='float32', casting='same_kind') for y in range(len(nodes['nodes'])) ] #\n",
    "df_rotate = pd.DataFrame(dict(nodes= nodes['nodes'], embeddings=random_rot)) #\n",
    "df_rotate.to_feather('/sc-projects/sc-proj-ukb-cvd/data/2_datasets_pre/220208_graphembeddings/embeddings_leonard/Embedding_dict_random_rotate4.feather')\n",
    "df_rotate.head()"
   ]
  }
 ],
 "metadata": {
  "kernelspec": {
   "display_name": "Python 3 (ipykernel)",
   "language": "python",
   "name": "python3"
  },
  "language_info": {
   "codemirror_mode": {
    "name": "ipython",
    "version": 3
   },
   "file_extension": ".py",
   "mimetype": "text/x-python",
   "name": "python",
   "nbconvert_exporter": "python",
   "pygments_lexer": "ipython3",
   "version": "3.9.7"
  }
 },
 "nbformat": 4,
 "nbformat_minor": 5
}
